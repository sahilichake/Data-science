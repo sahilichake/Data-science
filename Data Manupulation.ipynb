{
 "cells": [
  {
   "cell_type": "markdown",
   "id": "0f6905a5",
   "metadata": {},
   "source": [
    "# Data Manupulation in list :"
   ]
  },
  {
   "cell_type": "code",
   "execution_count": 1,
   "id": "a93e2295",
   "metadata": {},
   "outputs": [
    {
     "name": "stdout",
     "output_type": "stream",
     "text": [
      "The original list is =  [1, 2, 3, 4, 5]\n",
      "[1, 2, 3, 4, 5, 56]\n"
     ]
    }
   ],
   "source": [
    "temp = [1,2,3,4,5]\n",
    "print(\"The original list is = \",temp)\n",
    "#Add an element : list_name.append(element to be added)\n",
    "temp2 = temp.append(56)\n",
    "print(temp)"
   ]
  },
  {
   "cell_type": "code",
   "execution_count": 4,
   "id": "87ba2130",
   "metadata": {},
   "outputs": [
    {
     "name": "stdout",
     "output_type": "stream",
     "text": [
      "[1, 2, 3, 9, 9, 4, 5, 56, 7]\n"
     ]
    }
   ],
   "source": [
    "# To insert an element (index value,value)\n",
    "temp.insert(3,9)\n",
    "print(temp)"
   ]
  },
  {
   "cell_type": "code",
   "execution_count": 7,
   "id": "a062cc8e",
   "metadata": {},
   "outputs": [
    {
     "data": {
      "text/plain": [
       "[1, 2, 3, 9, 9, 4, 5, 56]"
      ]
     },
     "execution_count": 7,
     "metadata": {},
     "output_type": "execute_result"
    }
   ],
   "source": [
    "# To remove the last element of list\n",
    "temp.pop()\n",
    "temp"
   ]
  },
  {
   "cell_type": "code",
   "execution_count": 9,
   "id": "2364ff7d",
   "metadata": {},
   "outputs": [
    {
     "data": {
      "text/plain": [
       "[1, 2, 3, 9, 4, 5, 56]"
      ]
     },
     "execution_count": 9,
     "metadata": {},
     "output_type": "execute_result"
    }
   ],
   "source": [
    "# To remove a specific value\n",
    "temp.remove(9)\n",
    "temp"
   ]
  },
  {
   "cell_type": "code",
   "execution_count": 10,
   "id": "b2649fb4",
   "metadata": {},
   "outputs": [
    {
     "data": {
      "text/plain": [
       "[5, 10, 15, 20, 25, 30]"
      ]
     },
     "execution_count": 10,
     "metadata": {},
     "output_type": "execute_result"
    }
   ],
   "source": [
    "var5 = [5,10,15,20,25,30]\n",
    "var5"
   ]
  },
  {
   "cell_type": "code",
   "execution_count": 11,
   "id": "014bcb9e",
   "metadata": {},
   "outputs": [
    {
     "data": {
      "text/plain": [
       "[5, 10, 15, 20, 25, 30, 35]"
      ]
     },
     "execution_count": 11,
     "metadata": {},
     "output_type": "execute_result"
    }
   ],
   "source": [
    "var5.insert(30,35)\n",
    "var5"
   ]
  },
  {
   "cell_type": "code",
   "execution_count": 12,
   "id": "7dd4d60d",
   "metadata": {},
   "outputs": [
    {
     "data": {
      "text/plain": [
       "[5, 10, 15, 20, 25, 30]"
      ]
     },
     "execution_count": 12,
     "metadata": {},
     "output_type": "execute_result"
    }
   ],
   "source": [
    "var5.pop()\n",
    "var5"
   ]
  },
  {
   "cell_type": "code",
   "execution_count": 13,
   "id": "f43732d8",
   "metadata": {},
   "outputs": [
    {
     "data": {
      "text/plain": [
       "[10, 15, 20, 25, 30]"
      ]
     },
     "execution_count": 13,
     "metadata": {},
     "output_type": "execute_result"
    }
   ],
   "source": [
    "var5.remove(5)\n",
    "var5"
   ]
  },
  {
   "cell_type": "code",
   "execution_count": 17,
   "id": "d0612d52",
   "metadata": {},
   "outputs": [
    {
     "data": {
      "text/plain": [
       "[80, 95, 110]"
      ]
     },
     "execution_count": 17,
     "metadata": {},
     "output_type": "execute_result"
    }
   ],
   "source": [
    "# Slicing a list:\n",
    "# List Slicing list syntax : List_name[start index no : end index no\n",
    "s = [50,65,80,95,110,125,140,155]\n",
    "s[2:5]"
   ]
  },
  {
   "cell_type": "code",
   "execution_count": 19,
   "id": "30f5da61",
   "metadata": {},
   "outputs": [
    {
     "data": {
      "text/plain": [
       "['Air India', 'GoAir']"
      ]
     },
     "execution_count": 19,
     "metadata": {},
     "output_type": "execute_result"
    }
   ],
   "source": [
    "#I.N = 0.       1.          2.       3.\n",
    "d = [\"Vistara\",\"Air India\",\"GoAir\",\"Indigo\"]\n",
    "d[1:3]"
   ]
  },
  {
   "cell_type": "code",
   "execution_count": 20,
   "id": "1a1c8e68",
   "metadata": {},
   "outputs": [
    {
     "data": {
      "text/plain": [
       "['Rado', 'Casio', 'Seiko', 'Citizen', 'Fastrack']"
      ]
     },
     "execution_count": 20,
     "metadata": {},
     "output_type": "execute_result"
    }
   ],
   "source": [
    "watch =[\"Rado\",\"Casio\",\"Seiko\",\"Citizen\",\"Fastrack\",\"Sonata\",\"Titan\",\"G-shock\"]\n",
    "watch[:5]"
   ]
  },
  {
   "cell_type": "code",
   "execution_count": 21,
   "id": "e17f16dc",
   "metadata": {},
   "outputs": [
    {
     "data": {
      "text/plain": [
       "['Seiko', 'Citizen', 'Fastrack', 'Sonata', 'Titan', 'G-shock']"
      ]
     },
     "execution_count": 21,
     "metadata": {},
     "output_type": "execute_result"
    }
   ],
   "source": [
    "watch[2:]"
   ]
  },
  {
   "cell_type": "code",
   "execution_count": 28,
   "id": "b9184c82",
   "metadata": {},
   "outputs": [
    {
     "name": "stdout",
     "output_type": "stream",
     "text": [
      "My value =  ['Mars', 'Jupiter', 'Saturn', 'Uranus', 'Neptune', 'Pluto']\n"
     ]
    }
   ],
   "source": [
    "planets = [\"Mercury\",\"Venus\",\"Earth\",\"Mars\",\"Jupiter\",\"Saturn\",\"Uranus\",\"Neptune\",\"Pluto\"]\n",
    "print(\"My value = \",planets[3:])"
   ]
  },
  {
   "cell_type": "code",
   "execution_count": 24,
   "id": "4c50fac5",
   "metadata": {},
   "outputs": [
    {
     "data": {
      "text/plain": [
       "['Venus', 'Earth', 'Mars', 'Jupiter', 'Saturn', 'Uranus', 'Neptune']"
      ]
     },
     "execution_count": 24,
     "metadata": {},
     "output_type": "execute_result"
    }
   ],
   "source": [
    "# To exempt the first and last element:\n",
    "tv = 1\n",
    "fg = -1\n",
    "planets[1:-1]"
   ]
  },
  {
   "cell_type": "code",
   "execution_count": 29,
   "id": "26a4ffd6",
   "metadata": {},
   "outputs": [
    {
     "data": {
      "text/plain": [
       "['Venus', 'Earth', 'Mars', 'Jupiter', 'Saturn', 'Uranus', 'Neptune']"
      ]
     },
     "execution_count": 29,
     "metadata": {},
     "output_type": "execute_result"
    }
   ],
   "source": [
    "planets[tv:fg]"
   ]
  },
  {
   "cell_type": "code",
   "execution_count": 31,
   "id": "7b1282f6",
   "metadata": {},
   "outputs": [
    {
     "data": {
      "text/plain": [
       "['Mercury',\n",
       " 'Venus',\n",
       " 'Earth',\n",
       " 'Mars',\n",
       " 'Jupiter',\n",
       " 'Saturn',\n",
       " 'Uranus',\n",
       " 'Neptune',\n",
       " ('Titan', 'Rover')]"
      ]
     },
     "execution_count": 31,
     "metadata": {},
     "output_type": "execute_result"
    }
   ],
   "source": [
    "planets[8] = \"Titan\",\"Rover\"\n",
    "planets"
   ]
  },
  {
   "cell_type": "code",
   "execution_count": null,
   "id": "1a4cb1fc",
   "metadata": {},
   "outputs": [],
   "source": [
    "# Mutability & Immutability :\n",
    "\n"
   ]
  },
  {
   "cell_type": "code",
   "execution_count": 15,
   "id": "302d04f9",
   "metadata": {},
   "outputs": [
    {
     "name": "stdout",
     "output_type": "stream",
     "text": [
      "75\n"
     ]
    }
   ],
   "source": [
    "# Data manipulation in Dict :\n",
    "score = {'Rob':75,'Kevin':95}\n",
    "# data fetch using key:\n",
    "mark = score['Rob']\n",
    "print(mark)"
   ]
  },
  {
   "cell_type": "code",
   "execution_count": 16,
   "id": "2085c80b",
   "metadata": {},
   "outputs": [
    {
     "name": "stdout",
     "output_type": "stream",
     "text": [
      "{'Rob': 75, 'Kevin': 95, 'Suresh': 65, 'Jignesh': 100}\n"
     ]
    }
   ],
   "source": [
    "# Adding of element in dict :\n",
    "score['Suresh'] = 65\n",
    "score['Jignesh'] = 100\n",
    "print(score)"
   ]
  },
  {
   "cell_type": "code",
   "execution_count": 17,
   "id": "151caaf3",
   "metadata": {},
   "outputs": [
    {
     "name": "stdout",
     "output_type": "stream",
     "text": [
      "{'Rob': 75, 'Kevin': 95, 'Suresh': 65, 'Jignesh': 100, 'sahil': (120, 250)}\n"
     ]
    }
   ],
   "source": [
    "score['sahil'] = (120,250)\n",
    "print(score)"
   ]
  },
  {
   "cell_type": "code",
   "execution_count": 18,
   "id": "92c9d173",
   "metadata": {},
   "outputs": [
    {
     "data": {
      "text/plain": [
       "{'Rob': 75, 'Kevin': 95, 'Suresh': 65, 'Jignesh': 100}"
      ]
     },
     "execution_count": 18,
     "metadata": {},
     "output_type": "execute_result"
    }
   ],
   "source": [
    "# Delete element from dict:\n",
    "del score['sahil']\n",
    "score"
   ]
  },
  {
   "cell_type": "code",
   "execution_count": 19,
   "id": "63fce81f",
   "metadata": {},
   "outputs": [
    {
     "data": {
      "text/plain": [
       "{'Rob': 75, 'Suresh': 65, 'Jignesh': 100}"
      ]
     },
     "execution_count": 19,
     "metadata": {},
     "output_type": "execute_result"
    }
   ],
   "source": [
    "del score['Kevin']\n",
    "score"
   ]
  },
  {
   "cell_type": "code",
   "execution_count": 20,
   "id": "fc7e4bfd",
   "metadata": {},
   "outputs": [
    {
     "name": "stdout",
     "output_type": "stream",
     "text": [
      "['Rob', 'Suresh', 'Jignesh']\n"
     ]
    }
   ],
   "source": [
    "# to get all keys \n",
    "name = list(score.keys())\n",
    "print(name)"
   ]
  },
  {
   "cell_type": "code",
   "execution_count": 21,
   "id": "58912370",
   "metadata": {},
   "outputs": [
    {
     "name": "stdout",
     "output_type": "stream",
     "text": [
      "[75, 65, 100]\n"
     ]
    }
   ],
   "source": [
    "# to get all values\n",
    "value = list(score.values())\n",
    "print(value)"
   ]
  },
  {
   "cell_type": "code",
   "execution_count": 22,
   "id": "01f477fb",
   "metadata": {},
   "outputs": [
    {
     "name": "stdout",
     "output_type": "stream",
     "text": [
      "[65, 75, 100]\n"
     ]
    }
   ],
   "source": [
    "# if sort my value\n",
    "sortedmarks = sorted(score.values())\n",
    "print(sortedmarks)"
   ]
  },
  {
   "cell_type": "code",
   "execution_count": 23,
   "id": "d610cfea",
   "metadata": {},
   "outputs": [
    {
     "name": "stdout",
     "output_type": "stream",
     "text": [
      "['Jignesh', 'Rob', 'Suresh']\n"
     ]
    }
   ],
   "source": [
    "sortedname = sorted(score.keys())\n",
    "print(sortedname)"
   ]
  },
  {
   "cell_type": "code",
   "execution_count": 24,
   "id": "1480ae48",
   "metadata": {},
   "outputs": [
    {
     "name": "stdout",
     "output_type": "stream",
     "text": [
      "False\n"
     ]
    }
   ],
   "source": [
    "# check the element\n",
    "check = 'Steve' in score\n",
    "print(check)"
   ]
  },
  {
   "cell_type": "code",
   "execution_count": 26,
   "id": "7e6c9d84",
   "metadata": {},
   "outputs": [
    {
     "data": {
      "text/plain": [
       "True"
      ]
     },
     "execution_count": 26,
     "metadata": {},
     "output_type": "execute_result"
    }
   ],
   "source": [
    "check1 = 'Rob' in score\n",
    "check1"
   ]
  },
  {
   "cell_type": "code",
   "execution_count": null,
   "id": "0713f9e2",
   "metadata": {},
   "outputs": [],
   "source": []
  }
 ],
 "metadata": {
  "kernelspec": {
   "display_name": "Python 3 (ipykernel)",
   "language": "python",
   "name": "python3"
  },
  "language_info": {
   "codemirror_mode": {
    "name": "ipython",
    "version": 3
   },
   "file_extension": ".py",
   "mimetype": "text/x-python",
   "name": "python",
   "nbconvert_exporter": "python",
   "pygments_lexer": "ipython3",
   "version": "3.9.12"
  }
 },
 "nbformat": 4,
 "nbformat_minor": 5
}
