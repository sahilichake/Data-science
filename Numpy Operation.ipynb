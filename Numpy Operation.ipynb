{
 "cells": [
  {
   "cell_type": "code",
   "execution_count": 2,
   "id": "546deb34",
   "metadata": {},
   "outputs": [],
   "source": [
    "import numpy as np"
   ]
  },
  {
   "cell_type": "code",
   "execution_count": 23,
   "id": "e492de88",
   "metadata": {},
   "outputs": [],
   "source": [
    "arr1 = np.array([(1,2,3),(4,5,6),(7,8,9),(5,6,12)],dtype=np.float64)"
   ]
  },
  {
   "cell_type": "code",
   "execution_count": 24,
   "id": "73ba7a10",
   "metadata": {},
   "outputs": [
    {
     "data": {
      "text/plain": [
       "array([[ 1.,  2.,  3.],\n",
       "       [ 4.,  5.,  6.],\n",
       "       [ 7.,  8.,  9.],\n",
       "       [ 5.,  6., 12.]])"
      ]
     },
     "execution_count": 24,
     "metadata": {},
     "output_type": "execute_result"
    }
   ],
   "source": [
    "arr1"
   ]
  },
  {
   "cell_type": "code",
   "execution_count": 25,
   "id": "e625dbba",
   "metadata": {},
   "outputs": [
    {
     "data": {
      "text/plain": [
       "array([4., 5., 6.])"
      ]
     },
     "execution_count": 25,
     "metadata": {},
     "output_type": "execute_result"
    }
   ],
   "source": [
    "arr1[1]"
   ]
  },
  {
   "cell_type": "code",
   "execution_count": 26,
   "id": "a35238c7",
   "metadata": {},
   "outputs": [
    {
     "data": {
      "text/plain": [
       "2"
      ]
     },
     "execution_count": 26,
     "metadata": {},
     "output_type": "execute_result"
    }
   ],
   "source": [
    "arr1.ndim\n",
    "# show dimensions"
   ]
  },
  {
   "cell_type": "code",
   "execution_count": 27,
   "id": "19b910e6",
   "metadata": {},
   "outputs": [],
   "source": [
    "arr2 = np.array([(111.123,223.334,335.678),\n",
    "                (111.123,223.334,335.678),\n",
    "                (111.123,223.334,335.678),\n",
    "                (111.123,223.334,335.678),\n",
    "                (111.123,223.334,335.678),\n",
    "                (111.123,223.334,335.678),\n",
    "                (111.123,223.334,335.678),\n",
    "                (111.123,223.334,335.678),\n",
    "                (111.123,223.334,335.678),\n",
    "                (111.123,223.334,335.678),\n",
    "                (111.123,223.334,335.678),\n",
    "                (111.123,223.334,335.678),\n",
    "                (111.123,223.334,335.678),\n",
    "                (111.123,223.334,335.678),\n",
    "                (111.123,223.334,335.678)],dtype=np.complex128)"
   ]
  },
  {
   "cell_type": "code",
   "execution_count": 28,
   "id": "421d77e9",
   "metadata": {},
   "outputs": [
    {
     "data": {
      "text/plain": [
       "array([[111.123+0.j, 223.334+0.j, 335.678+0.j],\n",
       "       [111.123+0.j, 223.334+0.j, 335.678+0.j],\n",
       "       [111.123+0.j, 223.334+0.j, 335.678+0.j],\n",
       "       [111.123+0.j, 223.334+0.j, 335.678+0.j],\n",
       "       [111.123+0.j, 223.334+0.j, 335.678+0.j],\n",
       "       [111.123+0.j, 223.334+0.j, 335.678+0.j],\n",
       "       [111.123+0.j, 223.334+0.j, 335.678+0.j],\n",
       "       [111.123+0.j, 223.334+0.j, 335.678+0.j],\n",
       "       [111.123+0.j, 223.334+0.j, 335.678+0.j],\n",
       "       [111.123+0.j, 223.334+0.j, 335.678+0.j],\n",
       "       [111.123+0.j, 223.334+0.j, 335.678+0.j],\n",
       "       [111.123+0.j, 223.334+0.j, 335.678+0.j],\n",
       "       [111.123+0.j, 223.334+0.j, 335.678+0.j],\n",
       "       [111.123+0.j, 223.334+0.j, 335.678+0.j],\n",
       "       [111.123+0.j, 223.334+0.j, 335.678+0.j]])"
      ]
     },
     "execution_count": 28,
     "metadata": {},
     "output_type": "execute_result"
    }
   ],
   "source": [
    "arr2"
   ]
  },
  {
   "cell_type": "code",
   "execution_count": 29,
   "id": "f3e855ec",
   "metadata": {},
   "outputs": [
    {
     "name": "stdout",
     "output_type": "stream",
     "text": [
      "15\n"
     ]
    }
   ],
   "source": [
    "print(len(arr2))"
   ]
  },
  {
   "cell_type": "code",
   "execution_count": 55,
   "id": "cad76868",
   "metadata": {},
   "outputs": [
    {
     "data": {
      "text/plain": [
       "(15, 3)"
      ]
     },
     "execution_count": 55,
     "metadata": {},
     "output_type": "execute_result"
    }
   ],
   "source": [
    "arr2.shape"
   ]
  },
  {
   "cell_type": "code",
   "execution_count": 56,
   "id": "1661a2e0",
   "metadata": {},
   "outputs": [
    {
     "data": {
      "text/plain": [
       "(223.3783333333334+0j)"
      ]
     },
     "execution_count": 56,
     "metadata": {},
     "output_type": "execute_result"
    }
   ],
   "source": [
    "np.mean(arr2)"
   ]
  },
  {
   "cell_type": "code",
   "execution_count": 31,
   "id": "a0b90d7e",
   "metadata": {},
   "outputs": [
    {
     "data": {
      "text/plain": [
       "(10052.025000000001+0j)"
      ]
     },
     "execution_count": 31,
     "metadata": {},
     "output_type": "execute_result"
    }
   ],
   "source": [
    "np.sum(arr2)"
   ]
  },
  {
   "cell_type": "code",
   "execution_count": 32,
   "id": "363ea44f",
   "metadata": {},
   "outputs": [
    {
     "data": {
      "text/plain": [
       "(670.135+0j)"
      ]
     },
     "execution_count": 32,
     "metadata": {},
     "output_type": "execute_result"
    }
   ],
   "source": [
    "np.sum(arr2[2])"
   ]
  },
  {
   "cell_type": "code",
   "execution_count": 34,
   "id": "45a9f586",
   "metadata": {},
   "outputs": [
    {
     "name": "stderr",
     "output_type": "stream",
     "text": [
      "C:\\Users\\Admin\\AppData\\Local\\Temp/ipykernel_9652/65915816.py:1: DeprecationWarning: The Python built-in `round` is deprecated for complex scalars, and will raise a `TypeError` in a future release. Use `np.round` or `scalar.round` instead.\n",
      "  round(np.sum(arr2),3)\n"
     ]
    },
    {
     "data": {
      "text/plain": [
       "(10052.025+0j)"
      ]
     },
     "execution_count": 34,
     "metadata": {},
     "output_type": "execute_result"
    }
   ],
   "source": [
    "round(np.sum(arr2),3)"
   ]
  },
  {
   "cell_type": "code",
   "execution_count": 35,
   "id": "e62f77a6",
   "metadata": {},
   "outputs": [
    {
     "data": {
      "text/plain": [
       "(335.678+0j)"
      ]
     },
     "execution_count": 35,
     "metadata": {},
     "output_type": "execute_result"
    }
   ],
   "source": [
    "np.max(arr2)"
   ]
  },
  {
   "cell_type": "code",
   "execution_count": 36,
   "id": "5bc70a82",
   "metadata": {},
   "outputs": [
    {
     "data": {
      "text/plain": [
       "(111.123+0j)"
      ]
     },
     "execution_count": 36,
     "metadata": {},
     "output_type": "execute_result"
    }
   ],
   "source": [
    "np.min(arr2)"
   ]
  },
  {
   "cell_type": "code",
   "execution_count": 58,
   "id": "ecbf721b",
   "metadata": {},
   "outputs": [
    {
     "data": {
      "text/plain": [
       "array([[111.123, 223.334, 335.678],\n",
       "       [111.123, 223.334, 335.678],\n",
       "       [111.123, 223.334, 335.678],\n",
       "       [111.123, 223.334, 335.678],\n",
       "       [111.123, 223.334, 335.678],\n",
       "       [111.123, 223.334, 335.678],\n",
       "       [111.123, 223.334, 335.678],\n",
       "       [111.123, 223.334, 335.678],\n",
       "       [111.123, 223.334, 335.678],\n",
       "       [111.123, 223.334, 335.678],\n",
       "       [111.123, 223.334, 335.678],\n",
       "       [111.123, 223.334, 335.678],\n",
       "       [111.123, 223.334, 335.678],\n",
       "       [111.123, 223.334, 335.678],\n",
       "       [111.123, 223.334, 335.678]])"
      ]
     },
     "execution_count": 58,
     "metadata": {},
     "output_type": "execute_result"
    }
   ],
   "source": [
    "np.abs(arr2)"
   ]
  },
  {
   "cell_type": "code",
   "execution_count": 37,
   "id": "7f624590",
   "metadata": {},
   "outputs": [
    {
     "data": {
      "text/plain": [
       "array([1., 1., 1., 1., 1.])"
      ]
     },
     "execution_count": 37,
     "metadata": {},
     "output_type": "execute_result"
    }
   ],
   "source": [
    "np.ones(5)"
   ]
  },
  {
   "cell_type": "code",
   "execution_count": 38,
   "id": "5f21ee00",
   "metadata": {},
   "outputs": [
    {
     "data": {
      "text/plain": [
       "array([0., 0., 0., 0., 0.])"
      ]
     },
     "execution_count": 38,
     "metadata": {},
     "output_type": "execute_result"
    }
   ],
   "source": [
    "np.zeros(5)"
   ]
  },
  {
   "cell_type": "code",
   "execution_count": 40,
   "id": "d7368305",
   "metadata": {},
   "outputs": [
    {
     "data": {
      "text/plain": [
       "array([ 0,  1,  2,  3,  4,  5,  6,  7,  8,  9, 10, 11, 12, 13, 14, 15, 16,\n",
       "       17, 18, 19, 20, 21, 22, 23, 24, 25, 26, 27, 28, 29, 30, 31, 32, 33,\n",
       "       34, 35, 36, 37, 38, 39, 40, 41, 42, 43, 44, 45, 46, 47, 48, 49])"
      ]
     },
     "execution_count": 40,
     "metadata": {},
     "output_type": "execute_result"
    }
   ],
   "source": [
    "np.arange(50)"
   ]
  },
  {
   "cell_type": "code",
   "execution_count": 43,
   "id": "27bd4c72",
   "metadata": {},
   "outputs": [
    {
     "data": {
      "text/plain": [
       "array([ 5,  6,  7,  8,  9, 10, 11, 12, 13, 14, 15, 16, 17, 18, 19, 20])"
      ]
     },
     "execution_count": 43,
     "metadata": {},
     "output_type": "execute_result"
    }
   ],
   "source": [
    "np.arange(5,21)"
   ]
  },
  {
   "cell_type": "code",
   "execution_count": 44,
   "id": "32766cbd",
   "metadata": {},
   "outputs": [
    {
     "data": {
      "text/plain": [
       "array([ 5,  8, 11, 14, 17, 20])"
      ]
     },
     "execution_count": 44,
     "metadata": {},
     "output_type": "execute_result"
    }
   ],
   "source": [
    "np.arange(5,21,3)"
   ]
  },
  {
   "cell_type": "code",
   "execution_count": 48,
   "id": "ce4fdad9",
   "metadata": {},
   "outputs": [
    {
     "data": {
      "text/plain": [
       "55.7652181999176"
      ]
     },
     "execution_count": 48,
     "metadata": {},
     "output_type": "execute_result"
    }
   ],
   "source": [
    "np.random.normal(55)"
   ]
  },
  {
   "cell_type": "code",
   "execution_count": 50,
   "id": "9cd7f1d9",
   "metadata": {},
   "outputs": [
    {
     "data": {
      "text/plain": [
       "array([0.34349292, 0.58864487, 0.17384322, 0.59294146, 0.47336412,\n",
       "       0.20577905, 0.49935036, 0.99681513, 0.00509823, 0.48179116,\n",
       "       0.51818418, 0.9180396 , 0.84063597, 0.86710206, 0.01260426])"
      ]
     },
     "execution_count": 50,
     "metadata": {},
     "output_type": "execute_result"
    }
   ],
   "source": [
    "np.random.random(15)"
   ]
  },
  {
   "cell_type": "code",
   "execution_count": 57,
   "id": "354f1054",
   "metadata": {},
   "outputs": [
    {
     "data": {
      "text/plain": [
       "array([1, 2, 3, 4, 5])"
      ]
     },
     "execution_count": 57,
     "metadata": {},
     "output_type": "execute_result"
    }
   ],
   "source": [
    "a = np.array([3,5,4,2,1])\n",
    "np.sort(a)"
   ]
  },
  {
   "cell_type": "code",
   "execution_count": null,
   "id": "875dd206",
   "metadata": {},
   "outputs": [],
   "source": []
  }
 ],
 "metadata": {
  "kernelspec": {
   "display_name": "Python 3 (ipykernel)",
   "language": "python",
   "name": "python3"
  },
  "language_info": {
   "codemirror_mode": {
    "name": "ipython",
    "version": 3
   },
   "file_extension": ".py",
   "mimetype": "text/x-python",
   "name": "python",
   "nbconvert_exporter": "python",
   "pygments_lexer": "ipython3",
   "version": "3.9.12"
  }
 },
 "nbformat": 4,
 "nbformat_minor": 5
}
