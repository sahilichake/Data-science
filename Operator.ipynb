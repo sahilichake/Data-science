{
 "cells": [
  {
   "cell_type": "code",
   "execution_count": 1,
   "id": "dff8daaf",
   "metadata": {},
   "outputs": [],
   "source": [
    "#  data type & operators:\n",
    "\n",
    "# 1.Numeric data type:\n",
    "#  Int: integer value.\n",
    "#  Float: decimals value.\n",
    "#  complex numbers: 2+3j,5i.\n",
    "\n",
    "#2.String data type:\n",
    "#  \"\"\n",
    "#  ''\n"
   ]
  },
  {
   "cell_type": "markdown",
   "id": "eb141cee",
   "metadata": {},
   "source": [
    "# Arithmatic operators:"
   ]
  },
  {
   "cell_type": "code",
   "execution_count": 2,
   "id": "d7b2a613",
   "metadata": {},
   "outputs": [
    {
     "data": {
      "text/plain": [
       "4"
      ]
     },
     "execution_count": 2,
     "metadata": {},
     "output_type": "execute_result"
    }
   ],
   "source": [
    "# Add +\n",
    "2+2 "
   ]
  },
  {
   "cell_type": "code",
   "execution_count": 3,
   "id": "41a8e9eb",
   "metadata": {},
   "outputs": [
    {
     "data": {
      "text/plain": [
       "2"
      ]
     },
     "execution_count": 3,
     "metadata": {},
     "output_type": "execute_result"
    }
   ],
   "source": [
    "# Sub -\n",
    "4-2"
   ]
  },
  {
   "cell_type": "code",
   "execution_count": 4,
   "id": "a72c219f",
   "metadata": {},
   "outputs": [
    {
     "data": {
      "text/plain": [
       "8"
      ]
     },
     "execution_count": 4,
     "metadata": {},
     "output_type": "execute_result"
    }
   ],
   "source": [
    "# Multiplicative *\n",
    "4*2"
   ]
  },
  {
   "cell_type": "code",
   "execution_count": 5,
   "id": "a1e5cc8b",
   "metadata": {},
   "outputs": [
    {
     "data": {
      "text/plain": [
       "4.5"
      ]
     },
     "execution_count": 5,
     "metadata": {},
     "output_type": "execute_result"
    }
   ],
   "source": [
    "# Division /\n",
    "9/2"
   ]
  },
  {
   "cell_type": "code",
   "execution_count": 6,
   "id": "9d55f190",
   "metadata": {},
   "outputs": [
    {
     "data": {
      "text/plain": [
       "4"
      ]
     },
     "execution_count": 6,
     "metadata": {},
     "output_type": "execute_result"
    }
   ],
   "source": [
    "# Double fwd-slashes //\n",
    "9//2 "
   ]
  },
  {
   "cell_type": "code",
   "execution_count": 7,
   "id": "04ae5441",
   "metadata": {},
   "outputs": [
    {
     "data": {
      "text/plain": [
       "1"
      ]
     },
     "execution_count": 7,
     "metadata": {},
     "output_type": "execute_result"
    }
   ],
   "source": [
    "# Modulo % (remander)\n",
    "9%2 "
   ]
  },
  {
   "cell_type": "markdown",
   "id": "2ed176fd",
   "metadata": {},
   "source": [
    "# Comparison operators:"
   ]
  },
  {
   "cell_type": "code",
   "execution_count": 8,
   "id": "4f3e9843",
   "metadata": {},
   "outputs": [],
   "source": [
    "# = & ==\n",
    "# > & <\n",
    "# !=\n",
    "# ** (rase to)\n",
    "# >= & <=\n"
   ]
  },
  {
   "cell_type": "code",
   "execution_count": 9,
   "id": "234edaeb",
   "metadata": {},
   "outputs": [],
   "source": [
    "# age is years & ctc in inr lakes\n",
    "age =45\n",
    "ctc =65\n",
    "weight =80"
   ]
  },
  {
   "cell_type": "code",
   "execution_count": 10,
   "id": "4938a9b3",
   "metadata": {},
   "outputs": [
    {
     "data": {
      "text/plain": [
       "True"
      ]
     },
     "execution_count": 10,
     "metadata": {},
     "output_type": "execute_result"
    }
   ],
   "source": [
    "age>35 and ctc>55"
   ]
  },
  {
   "cell_type": "code",
   "execution_count": 11,
   "id": "32d4dc66",
   "metadata": {},
   "outputs": [
    {
     "data": {
      "text/plain": [
       "False"
      ]
     },
     "execution_count": 11,
     "metadata": {},
     "output_type": "execute_result"
    }
   ],
   "source": [
    "age>40 and ctc>70"
   ]
  },
  {
   "cell_type": "code",
   "execution_count": 12,
   "id": "e9126916",
   "metadata": {},
   "outputs": [
    {
     "data": {
      "text/plain": [
       "True"
      ]
     },
     "execution_count": 12,
     "metadata": {},
     "output_type": "execute_result"
    }
   ],
   "source": [
    "age>40 or ctc>50"
   ]
  },
  {
   "cell_type": "code",
   "execution_count": 13,
   "id": "48a6fb76",
   "metadata": {},
   "outputs": [
    {
     "data": {
      "text/plain": [
       "True"
      ]
     },
     "execution_count": 13,
     "metadata": {},
     "output_type": "execute_result"
    }
   ],
   "source": [
    "age>50 or ctc>50 and weight>70"
   ]
  },
  {
   "cell_type": "code",
   "execution_count": 14,
   "id": "0db7cce7",
   "metadata": {},
   "outputs": [
    {
     "data": {
      "text/plain": [
       "4"
      ]
     },
     "execution_count": 14,
     "metadata": {},
     "output_type": "execute_result"
    }
   ],
   "source": [
    "12 and 54 and 4"
   ]
  },
  {
   "cell_type": "code",
   "execution_count": 15,
   "id": "8b82e758",
   "metadata": {},
   "outputs": [
    {
     "data": {
      "text/plain": [
       "12"
      ]
     },
     "execution_count": 15,
     "metadata": {},
     "output_type": "execute_result"
    }
   ],
   "source": [
    "12 or 54 or 4"
   ]
  },
  {
   "cell_type": "code",
   "execution_count": 16,
   "id": "1f9826b4",
   "metadata": {},
   "outputs": [
    {
     "data": {
      "text/plain": [
       "'sahil'"
      ]
     },
     "execution_count": 16,
     "metadata": {},
     "output_type": "execute_result"
    }
   ],
   "source": [
    "15 and 'sahil'"
   ]
  },
  {
   "cell_type": "code",
   "execution_count": 17,
   "id": "b590c0c6",
   "metadata": {},
   "outputs": [
    {
     "data": {
      "text/plain": [
       "15"
      ]
     },
     "execution_count": 17,
     "metadata": {},
     "output_type": "execute_result"
    }
   ],
   "source": [
    "15 or 'sahil'"
   ]
  },
  {
   "cell_type": "code",
   "execution_count": 18,
   "id": "8e16ad5f",
   "metadata": {},
   "outputs": [
    {
     "name": "stdout",
     "output_type": "stream",
     "text": [
      "0\n",
      "5\n",
      "10\n",
      "15\n",
      "20\n",
      "25\n",
      "30\n",
      "35\n",
      "40\n",
      "45\n",
      "50\n",
      "55\n",
      "60\n",
      "65\n",
      "70\n",
      "75\n",
      "80\n",
      "85\n",
      "90\n",
      "95\n"
     ]
    }
   ],
   "source": [
    "# Indentation \n",
    "for x in range(0,100):\n",
    "    if x%5==0:\n",
    "        print(x)"
   ]
  },
  {
   "cell_type": "code",
   "execution_count": null,
   "id": "3a680e93",
   "metadata": {},
   "outputs": [],
   "source": []
  }
 ],
 "metadata": {
  "kernelspec": {
   "display_name": "Python 3 (ipykernel)",
   "language": "python",
   "name": "python3"
  },
  "language_info": {
   "codemirror_mode": {
    "name": "ipython",
    "version": 3
   },
   "file_extension": ".py",
   "mimetype": "text/x-python",
   "name": "python",
   "nbconvert_exporter": "python",
   "pygments_lexer": "ipython3",
   "version": "3.9.12"
  }
 },
 "nbformat": 4,
 "nbformat_minor": 5
}
