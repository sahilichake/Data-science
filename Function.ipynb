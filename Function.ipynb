{
 "cells": [
  {
   "cell_type": "code",
   "execution_count": 1,
   "id": "f08191f4",
   "metadata": {},
   "outputs": [
    {
     "name": "stdout",
     "output_type": "stream",
     "text": [
      "Enter the First Number = 9\n",
      "Enter the Second Number = 8\n",
      "The sum of 2 given number is =  17\n"
     ]
    }
   ],
   "source": [
    "# Function to add 2 number :\n",
    "def add_number(n1,n2):\n",
    "    result = (n1 + n2)\n",
    "    print(\"The sum of 2 given number is = \",result)\n",
    "number1 = int(input('Enter the First Number = '))\n",
    "number2 = int(input('Enter the Second Number = '))\n",
    "add_number(number1,number2)"
   ]
  },
  {
   "cell_type": "code",
   "execution_count": 2,
   "id": "27c6ab9d",
   "metadata": {},
   "outputs": [
    {
     "name": "stdout",
     "output_type": "stream",
     "text": [
      "Inflation in India is Increasing\n",
      "Modijji is in huge tension\n",
      "we love our Finance Minister\n"
     ]
    }
   ],
   "source": [
    "# Function without argument :\n",
    "def inflation():\n",
    "    print(\"Inflation in India is Increasing\")\n",
    "    print(\"Modijji is in huge tension\")\n",
    "    print(\"we love our Finance Minister\")\n",
    "inflation()"
   ]
  },
  {
   "cell_type": "code",
   "execution_count": 3,
   "id": "44a500c4",
   "metadata": {},
   "outputs": [
    {
     "name": "stdout",
     "output_type": "stream",
     "text": [
      "People are supporting Ukraine over Russia\n",
      "World Economic Forum also is supporting Ukraine\n",
      "Putin is Pareshan /Disturbed\n"
     ]
    }
   ],
   "source": [
    "def war():\n",
    "    print('People are supporting Ukraine over Russia')\n",
    "    print(\"World Economic Forum also is supporting Ukraine\")\n",
    "    print(\"Putin is Pareshan /Disturbed\")\n",
    "war()"
   ]
  },
  {
   "cell_type": "code",
   "execution_count": 4,
   "id": "6a4a302c",
   "metadata": {},
   "outputs": [
    {
     "name": "stdout",
     "output_type": "stream",
     "text": [
      "The name of 2022 Topper student is : Sahil\n"
     ]
    }
   ],
   "source": [
    "# Function with argument :\n",
    "def stud(name):\n",
    "    print(\"The name of 2022 Topper student is :\",name)\n",
    "stud(\"Sahil\")"
   ]
  },
  {
   "cell_type": "code",
   "execution_count": 5,
   "id": "f6dead6e",
   "metadata": {},
   "outputs": [
    {
     "name": "stdout",
     "output_type": "stream",
     "text": [
      "The name of 2022 Topper student is : Suraj\n"
     ]
    }
   ],
   "source": [
    "stud(\"Suraj\")"
   ]
  },
  {
   "cell_type": "code",
   "execution_count": 19,
   "id": "ca8f755a",
   "metadata": {},
   "outputs": [
    {
     "name": "stdout",
     "output_type": "stream",
     "text": [
      "The result of Subtraction is  =  None\n"
     ]
    }
   ],
   "source": [
    "# Return Statement :\n",
    "def sub(n3,n4):  #arguments\n",
    "    num =(n3 - n4)\n",
    "    return \n",
    "sub(5,9)     #parameters\n",
    "print(\"The result of Subtraction is  = \")"
   ]
  },
  {
   "cell_type": "code",
   "execution_count": 14,
   "id": "80023093",
   "metadata": {},
   "outputs": [
    {
     "name": "stdout",
     "output_type": "stream",
     "text": [
      "My average Gpa is : 8.49\n",
      "My final grade is : A\n"
     ]
    }
   ],
   "source": [
    "# Funtion to calc. the avg. gpa to know the avg. grade out of gpa list :\n",
    "\n",
    "#1. Function :To calc. the average gpa\n",
    "gpa = [7.2,6.7,8.9,9.8,10,9.3,8.4,7.6]\n",
    "def avg_gpa(gpa):\n",
    "    s = sum(gpa)\n",
    "    l = len(gpa)\n",
    "    avg_gpa = s/l\n",
    "    return avg_gpa\n",
    "avg_gpa = avg_gpa(gpa)\n",
    "print(\"My average Gpa is :\",round(avg_gpa,2)) # round -use 2 decimal value\n",
    "\n",
    "#2. Function :To calc. grade for gpa\n",
    "def compute(avg_gpa):\n",
    "    if avg_gpa>=8:\n",
    "        grade = \"A\"\n",
    "    elif avg_gpa>=6:\n",
    "        grade = \"B\"\n",
    "    elif avg_gpa>=5:\n",
    "        grade = \"C\"\n",
    "    elif avg_gpa>=4:\n",
    "        grade = \"D\"\n",
    "    else:\n",
    "        grade = \"F\"\n",
    "    return grade\n",
    "final_grade = compute(avg_gpa)\n",
    "print(\"My final grade is :\",final_grade)\n",
    "        "
   ]
  },
  {
   "cell_type": "code",
   "execution_count": null,
   "id": "faee5ea4",
   "metadata": {},
   "outputs": [],
   "source": []
  }
 ],
 "metadata": {
  "kernelspec": {
   "display_name": "Python 3 (ipykernel)",
   "language": "python",
   "name": "python3"
  },
  "language_info": {
   "codemirror_mode": {
    "name": "ipython",
    "version": 3
   },
   "file_extension": ".py",
   "mimetype": "text/x-python",
   "name": "python",
   "nbconvert_exporter": "python",
   "pygments_lexer": "ipython3",
   "version": "3.9.12"
  }
 },
 "nbformat": 4,
 "nbformat_minor": 5
}
